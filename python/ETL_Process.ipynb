{
 "cells": [
  {
   "cell_type": "markdown",
   "metadata": {},
   "source": [
    "<h1>Connect to Database<h1>"
   ]
  },
  {
   "cell_type": "code",
   "execution_count": 9,
   "metadata": {},
   "outputs": [],
   "source": [
    "from sqlalchemy import create_engine\n",
    "import pandas as pd"
   ]
  },
  {
   "cell_type": "code",
   "execution_count": 10,
   "metadata": {},
   "outputs": [],
   "source": [
    "from dotenv import load_dotenv\n",
    "import os\n",
    "\n",
    "load_dotenv('pwd.env')\n",
    "\n",
    "db_user = os.getenv('DB_USER')\n",
    "db_password = os.getenv('DB_PASSWORD')\n",
    "db_host = os.getenv(\"DB_HOST\")"
   ]
  },
  {
   "cell_type": "code",
   "execution_count": 11,
   "metadata": {},
   "outputs": [
    {
     "name": "stdout",
     "output_type": "stream",
     "text": [
      "connection was successful!\n"
     ]
    }
   ],
   "source": [
    "username = db_user\n",
    "password = db_password\n",
    "host = db_host\n",
    "port = '5433'\n",
    "database = 'House_Power_DWH'\n",
    "\n",
    "connection_string = f\"postgresql+psycopg2://{username}:{password}@{host}:{port}/{database}\"\n",
    "engine = create_engine(connection_string)\n",
    "\n",
    "try:\n",
    "    with engine.connect() as connection:\n",
    "        print(\"connection was successful!\")\n",
    "except Exception as e:\n",
    "    print(\"connectionfailed:\",e)"
   ]
  },
  {
   "cell_type": "markdown",
   "metadata": {},
   "source": [
    "<h1>Load Files To DWH<h1>"
   ]
  },
  {
   "cell_type": "code",
   "execution_count": 16,
   "metadata": {},
   "outputs": [
    {
     "data": {
      "text/plain": [
       "356"
      ]
     },
     "execution_count": 16,
     "metadata": {},
     "output_type": "execute_result"
    }
   ],
   "source": [
    "\n",
    "cleaned_power =pd.read_csv(r'D:\\My Projects\\grad project.DEPI\\HOUSE_POWER_PROJECT\\HOUSE_POWER_PROJECT\\Data set\\cleaned_power.csv', sep = ',')\n",
    "cleaned_power.to_sql('cleaned_power', engine, if_exists='replace', index = False, schema='public')"
   ]
  },
  {
   "cell_type": "code",
   "execution_count": 17,
   "metadata": {},
   "outputs": [
    {
     "data": {
      "text/plain": [
       "356"
      ]
     },
     "execution_count": 17,
     "metadata": {},
     "output_type": "execute_result"
    }
   ],
   "source": [
    "cleaned_sub_meterings =pd.read_csv(r'D:\\My Projects\\grad project.DEPI\\HOUSE_POWER_PROJECT\\HOUSE_POWER_PROJECT\\Data set\\cleaned_sub_meterings.csv', sep = ',')\n",
    "cleaned_sub_meterings .to_sql('cleaned_sub_meterings ', engine, if_exists='replace', index = False, schema='public')"
   ]
  },
  {
   "cell_type": "code",
   "execution_count": 18,
   "metadata": {},
   "outputs": [
    {
     "data": {
      "text/plain": [
       "356"
      ]
     },
     "execution_count": 18,
     "metadata": {},
     "output_type": "execute_result"
    }
   ],
   "source": [
    "cleaned_voltage_current =pd.read_csv(r'D:\\My Projects\\grad project.DEPI\\HOUSE_POWER_PROJECT\\HOUSE_POWER_PROJECT\\Data set\\cleaned_voltage_current.csv', sep = ',')\n",
    "cleaned_voltage_current .to_sql('cleaned_voltage_current  ', engine, if_exists='replace', index = False, schema='public')"
   ]
  },
  {
   "cell_type": "markdown",
   "metadata": {},
   "source": [
    "<h1>Create Fact Table<h1>"
   ]
  },
  {
   "cell_type": "code",
   "execution_count": 22,
   "metadata": {},
   "outputs": [],
   "source": [
    "from sqlalchemy import text\n",
    "with engine.connect() as connection:\n",
    "    connection.execute(text('''\n",
    "    CREATE TABLE fact_energy_usage AS\n",
    "    SELECT\n",
    "        cp.\"Index\",\n",
    "        cp.\"Global_active_power KW\",\n",
    "        cp.\"Global_reactive_power KW\",\n",
    "        cp.\"Apparent_power_KVA\",\n",
    "        csm.\"Sub_metering_1 J\" ,\n",
    "        csm.\"Sub_metering_2 J\" ,\n",
    "        csm.\"Sub_metering_3 J\",\n",
    "        cvc.\"Voltage V\", \n",
    "        cvc.\"Global_intensity A\" ,\n",
    "        cvc.\"Date\",\n",
    "        cvc.\"Time\"\n",
    "    FROM\n",
    "        \"public\".\"cleaned_power\" cp\n",
    "    JOIN\n",
    "        \"public\".\"cleaned_sub_meterings \" csm ON cp.\"Index\" = csm.\"Index\"\n",
    "    JOIN\n",
    "        \"public\".\"cleaned_voltage_current  \" cvc ON cp.\"Index\" = cvc.\"Index\";\n",
    "    '''))"
   ]
  },
  {
   "cell_type": "code",
   "execution_count": null,
   "metadata": {},
   "outputs": [],
   "source": []
  }
 ],
 "metadata": {
  "kernelspec": {
   "display_name": "Python 3",
   "language": "python",
   "name": "python3"
  },
  "language_info": {
   "codemirror_mode": {
    "name": "ipython",
    "version": 3
   },
   "file_extension": ".py",
   "mimetype": "text/x-python",
   "name": "python",
   "nbconvert_exporter": "python",
   "pygments_lexer": "ipython3",
   "version": "3.11.4"
  }
 },
 "nbformat": 4,
 "nbformat_minor": 2
}
